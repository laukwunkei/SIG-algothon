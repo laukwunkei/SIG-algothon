{
 "cells": [
  {
   "cell_type": "markdown",
   "metadata": {},
   "source": [
    "## Signal Testing in SPY index trading\n",
    "Spy aims to keep track of S&P 500 index, keeping track of a number of large and mid cap US equities. We aim to find signals to guide us timing in market entry and exit. Here's some of my hypothesis and signal sources:\n",
    "- Currency: Strong dollar -> sign of market decline -> sources signal from UUP (Invesco DB US Dollar Index Bullish Fund)\n",
    "- Commodity: Market value drop -> leading indicator to market worries (Invesco DB Base Metals Fund)\n",
    "- Debt market: Equity market value benefit from cheaper bond (sources signal from BSV, short term bond Vanguard Short-Term Bond ETF)"
   ]
  },
  {
   "cell_type": "code",
   "execution_count": 1,
   "metadata": {},
   "outputs": [],
   "source": [
    "import numpy as np\n",
    "import pandas as pd\n",
    "import datetime\n",
    "import matplotlib.pyplot as plt"
   ]
  },
  {
   "cell_type": "code",
   "execution_count": 2,
   "metadata": {},
   "outputs": [],
   "source": [
    "#Reading in possible indexes from Jan/2010 to Sep/2020\n",
    "spy_data = pd.read_csv(\"data/SPY.csv\", index_col = 'Date')\n",
    "spy_price = spy_data['Close']\n",
    "UUP_data = pd.read_csv(\"data/UUP.csv\", index_col = 'Date')\n",
    "UUP_price = UUP_data['Close']\n",
    "BSV_data = pd.read_csv(\"data/BSV.csv\", index_col = 'Date')\n",
    "BSV_price = BSV_data['Close']\n",
    "DBB_data = pd.read_csv(\"data/DBB.csv\", index_col = 'Date')\n",
    "DBB_price = DBB_data['Close']\n",
    "JJM_data = pd.read_csv(\"data/JJM.csv\", index_col = 'Date')\n",
    "JJM_price = JJM_data['Close']\n",
    "SHY_data = pd.read_csv(\"data/SHY.csv\", index_col = 'Date')\n",
    "SHY_price = SHY_data['Close']\n",
    "#Commodity signal test\n",
    "alu_future_data = pd.read_csv(\"data/alu_future.csv\", index_col = 'Date')\n",
    "alu_future_price = alu_future_data['Close']\n",
    "cu_future_data = pd.read_csv(\"data/cu_future.csv\", index_col = 'Date')\n",
    "cu_future_price = cu_future_data['Close']"
   ]
  },
  {
   "cell_type": "markdown",
   "metadata": {},
   "source": [
    "### Testing commodity signal correlation:\n",
    "- Top two industrial broad metal fund by volume: DBB and JJM\n",
    "- Testing their correlation to industrial metals future contracts"
   ]
  },
  {
   "cell_type": "code",
   "execution_count": 3,
   "metadata": {},
   "outputs": [
    {
     "data": {
      "text/html": [
       "<div>\n",
       "<style scoped>\n",
       "    .dataframe tbody tr th:only-of-type {\n",
       "        vertical-align: middle;\n",
       "    }\n",
       "\n",
       "    .dataframe tbody tr th {\n",
       "        vertical-align: top;\n",
       "    }\n",
       "\n",
       "    .dataframe thead th {\n",
       "        text-align: right;\n",
       "    }\n",
       "</style>\n",
       "<table border=\"1\" class=\"dataframe\">\n",
       "  <thead>\n",
       "    <tr style=\"text-align: right;\">\n",
       "      <th></th>\n",
       "      <th>DBB</th>\n",
       "      <th>JJM</th>\n",
       "      <th>alu_future</th>\n",
       "      <th>cu_future</th>\n",
       "    </tr>\n",
       "    <tr>\n",
       "      <th>Date</th>\n",
       "      <th></th>\n",
       "      <th></th>\n",
       "      <th></th>\n",
       "      <th></th>\n",
       "    </tr>\n",
       "  </thead>\n",
       "  <tbody>\n",
       "    <tr>\n",
       "      <th>2019-10-21</th>\n",
       "      <td>15.16</td>\n",
       "      <td>44.208000</td>\n",
       "      <td>1744.0</td>\n",
       "      <td>2.6350</td>\n",
       "    </tr>\n",
       "    <tr>\n",
       "      <th>2019-10-22</th>\n",
       "      <td>15.09</td>\n",
       "      <td>44.396999</td>\n",
       "      <td>1727.5</td>\n",
       "      <td>2.6220</td>\n",
       "    </tr>\n",
       "    <tr>\n",
       "      <th>2019-10-23</th>\n",
       "      <td>15.22</td>\n",
       "      <td>44.396999</td>\n",
       "      <td>1742.0</td>\n",
       "      <td>2.6625</td>\n",
       "    </tr>\n",
       "    <tr>\n",
       "      <th>2019-10-24</th>\n",
       "      <td>15.26</td>\n",
       "      <td>44.869999</td>\n",
       "      <td>1735.0</td>\n",
       "      <td>2.6590</td>\n",
       "    </tr>\n",
       "    <tr>\n",
       "      <th>2019-10-25</th>\n",
       "      <td>15.38</td>\n",
       "      <td>45.095001</td>\n",
       "      <td>1740.5</td>\n",
       "      <td>2.6665</td>\n",
       "    </tr>\n",
       "  </tbody>\n",
       "</table>\n",
       "</div>"
      ],
      "text/plain": [
       "              DBB        JJM  alu_future  cu_future\n",
       "Date                                               \n",
       "2019-10-21  15.16  44.208000      1744.0     2.6350\n",
       "2019-10-22  15.09  44.396999      1727.5     2.6220\n",
       "2019-10-23  15.22  44.396999      1742.0     2.6625\n",
       "2019-10-24  15.26  44.869999      1735.0     2.6590\n",
       "2019-10-25  15.38  45.095001      1740.5     2.6665"
      ]
     },
     "execution_count": 3,
     "metadata": {},
     "output_type": "execute_result"
    }
   ],
   "source": [
    "Test_commodity = pd.concat([DBB_price,JJM_price,alu_future_price,cu_future_price], axis=1, sort=False, join='inner')\n",
    "Test_commodity.columns.values[0] = 'DBB'\n",
    "Test_commodity.columns.values[1] = 'JJM'\n",
    "Test_commodity.columns.values[2] = 'alu_future'\n",
    "Test_commodity.columns.values[3] = 'cu_future'\n",
    "Test_commodity.head()"
   ]
  },
  {
   "cell_type": "code",
   "execution_count": 4,
   "metadata": {},
   "outputs": [
    {
     "data": {
      "text/html": [
       "<div>\n",
       "<style scoped>\n",
       "    .dataframe tbody tr th:only-of-type {\n",
       "        vertical-align: middle;\n",
       "    }\n",
       "\n",
       "    .dataframe tbody tr th {\n",
       "        vertical-align: top;\n",
       "    }\n",
       "\n",
       "    .dataframe thead th {\n",
       "        text-align: right;\n",
       "    }\n",
       "</style>\n",
       "<table border=\"1\" class=\"dataframe\">\n",
       "  <thead>\n",
       "    <tr style=\"text-align: right;\">\n",
       "      <th></th>\n",
       "      <th>DBB</th>\n",
       "      <th>JJM</th>\n",
       "      <th>alu_future</th>\n",
       "      <th>cu_future</th>\n",
       "    </tr>\n",
       "  </thead>\n",
       "  <tbody>\n",
       "    <tr>\n",
       "      <th>DBB</th>\n",
       "      <td>1.000000</td>\n",
       "      <td>0.993622</td>\n",
       "      <td>0.926301</td>\n",
       "      <td>0.877370</td>\n",
       "    </tr>\n",
       "    <tr>\n",
       "      <th>JJM</th>\n",
       "      <td>0.993622</td>\n",
       "      <td>1.000000</td>\n",
       "      <td>0.908479</td>\n",
       "      <td>0.900709</td>\n",
       "    </tr>\n",
       "    <tr>\n",
       "      <th>alu_future</th>\n",
       "      <td>0.926301</td>\n",
       "      <td>0.908479</td>\n",
       "      <td>1.000000</td>\n",
       "      <td>0.755092</td>\n",
       "    </tr>\n",
       "    <tr>\n",
       "      <th>cu_future</th>\n",
       "      <td>0.877370</td>\n",
       "      <td>0.900709</td>\n",
       "      <td>0.755092</td>\n",
       "      <td>1.000000</td>\n",
       "    </tr>\n",
       "  </tbody>\n",
       "</table>\n",
       "</div>"
      ],
      "text/plain": [
       "                 DBB       JJM  alu_future  cu_future\n",
       "DBB         1.000000  0.993622    0.926301   0.877370\n",
       "JJM         0.993622  1.000000    0.908479   0.900709\n",
       "alu_future  0.926301  0.908479    1.000000   0.755092\n",
       "cu_future   0.877370  0.900709    0.755092   1.000000"
      ]
     },
     "execution_count": 4,
     "metadata": {},
     "output_type": "execute_result"
    }
   ],
   "source": [
    "corr_commodity = Test_commodity.corr()\n",
    "corr_commodity"
   ]
  },
  {
   "cell_type": "markdown",
   "metadata": {},
   "source": [
    "Both DBB and JJM has high correlation to the price of future contract and should be consider as possible sources (backtest both and use the higher)."
   ]
  },
  {
   "cell_type": "markdown",
   "metadata": {},
   "source": [
    "### Finding level of benchmark\n",
    "- Observe 90 days return of DBB\n",
    "- Set lower quartile or even low as benchmark"
   ]
  },
  {
   "cell_type": "code",
   "execution_count": 5,
   "metadata": {},
   "outputs": [
    {
     "data": {
      "image/png": "[encoded data removed]",
      "text/plain": [
       "<Figure size 720x504 with 1 Axes>"
      ]
     },
     "metadata": {
      "needs_background": "light"
     },
     "output_type": "display_data"
    }
   ],
   "source": [
    "DBB_data['Close'].plot(figsize=(10, 7))\n",
    "# Define the label for the title of the figure\n",
    "plt.title(\"Adjusted Close Price of DBB, fontsize=16\")\n",
    "# Define the labels for x-axis and y-axis\n",
    "plt.ylabel('Price', fontsize=14)\n",
    "plt.xlabel('Date', fontsize=14)\n",
    "# Plot the grid lines\n",
    "plt.grid(which=\"major\", color='k', linestyle='-.', linewidth=0.5)\n",
    "# Show the plot\n",
    "plt.show()"
   ]
  },
  {
   "cell_type": "code",
   "execution_count": 1,
   "metadata": {},
   "outputs": [],
   "source": [
    "#for some reason my Jupyter takes forever to compute 60 days return average\n",
    "#I do this in excel and find lower quartile is around 7-8%"
   ]
  },
  {
   "cell_type": "code",
   "execution_count": null,
   "metadata": {},
   "outputs": [],
   "source": []
  }
 ],
 "metadata": {
  "kernelspec": {
   "display_name": "Python 3",
   "language": "python",
   "name": "python3"
  },
  "language_info": {
   "codemirror_mode": {
    "name": "ipython",
    "version": 3
   },
   "file_extension": ".py",
   "mimetype": "text/x-python",
   "name": "python",
   "nbconvert_exporter": "python",
   "pygments_lexer": "ipython3",
   "version": "3.7.0"
  }
 },
 "nbformat": 4,
 "nbformat_minor": 2
}
